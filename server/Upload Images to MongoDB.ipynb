{
 "cells": [
  {
   "cell_type": "code",
   "execution_count": 26,
   "metadata": {},
   "outputs": [],
   "source": [
    "import mongoengine\n",
    "import random\n",
    "import decimal\n",
    "from mongoengine import connect, Document, fields"
   ]
  },
  {
   "cell_type": "code",
   "execution_count": 27,
   "metadata": {},
   "outputs": [
    {
     "data": {
      "text/plain": [
       "MongoClient(host=['localhost:27017'], document_class=dict, tz_aware=False, connect=True, read_preference=Primary())"
      ]
     },
     "execution_count": 27,
     "metadata": {},
     "output_type": "execute_result"
    }
   ],
   "source": [
    "connect(db=\"video_search\", host=\"localhost\", port=27017)\n"
   ]
  },
  {
   "cell_type": "code",
   "execution_count": 28,
   "metadata": {},
   "outputs": [],
   "source": [
    "class Multimedia(Document):\n",
    "    #  name of \"table\"   \n",
    "    meta = {\"collection\": \"multimedia_storage\"}\n",
    "    \n",
    "    keyframeId = fields.StringField(required=True) \n",
    "    filepath = fields.StringField(required=True)\n",
    "    conceptName = fields.StringField(required=False)\n",
    "    confidence = fields.DecimalField(0.00, 1.00, False, 2, decimal.ROUND_05UP)\n",
    "    # Image with size, False = dont force the size of the image\n",
    "    keyframe = fields.ImageField(thumbnail_size=(500,450, False))    "
   ]
  },
  {
   "cell_type": "code",
   "execution_count": 29,
   "metadata": {},
   "outputs": [],
   "source": [
    "index = 0\n",
    "concepts = ['Apple', 'Banana', 'Airplane', 'Citrus']\n",
    "confidences = [0.35, 0.5, 0.75, 0.90]\n",
    "while index < 20:\n",
    "    keyframe = Multimedia(keyframeId='everest_'+str(index)+'_key.jpg', \n",
    "                       filepath='C:\\\\Users\\\\wacht\\\\PycharmProjects\\\\Clustering\\\\resource\\\\key\\\\everest_'+str(index)+'_key.jpg',\n",
    "                         conceptName=random.choice(concepts),\n",
    "                         confidence=random.choice(confidences))\n",
    "    # open image with read binary\n",
    "    my_image = open('C:/Users/wacht/PycharmProjects/Clustering/resource/key/everest_'+str(index)+'_key.jpg', 'rb')\n",
    "    keyframe.keyframe.replace(my_image, filename=\"everest_\"+str(index)+\"_key.jpg\")\n",
    "    keyframe.save()\n",
    "    index += 1"
   ]
  },
  {
   "cell_type": "code",
   "execution_count": 17,
   "metadata": {},
   "outputs": [],
   "source": []
  },
  {
   "cell_type": "code",
   "execution_count": 18,
   "metadata": {},
   "outputs": [
    {
     "data": {
      "text/plain": [
       "<Multimedia: Multimedia object>"
      ]
     },
     "execution_count": 18,
     "metadata": {},
     "output_type": "execute_result"
    }
   ],
   "source": []
  },
  {
   "cell_type": "code",
   "execution_count": null,
   "metadata": {},
   "outputs": [],
   "source": []
  }
 ],
 "metadata": {
  "kernelspec": {
   "display_name": "Python 3",
   "language": "python",
   "name": "python3"
  },
  "language_info": {
   "codemirror_mode": {
    "name": "ipython",
    "version": 3
   },
   "file_extension": ".py",
   "mimetype": "text/x-python",
   "name": "python",
   "nbconvert_exporter": "python",
   "pygments_lexer": "ipython3",
   "version": "3.8.3"
  }
 },
 "nbformat": 4,
 "nbformat_minor": 4
}
